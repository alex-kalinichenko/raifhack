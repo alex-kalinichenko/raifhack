{
 "cells": [
  {
   "cell_type": "code",
   "execution_count": 83,
   "id": "25567c53",
   "metadata": {
    "ExecuteTime": {
     "end_time": "2021-09-25T00:50:29.211213Z",
     "start_time": "2021-09-25T00:50:29.199244Z"
    }
   },
   "outputs": [
    {
     "ename": "ModuleNotFoundError",
     "evalue": "No module named 'dataprep'",
     "output_type": "error",
     "traceback": [
      "\u001b[1;31m---------------------------------------------------------------------------\u001b[0m",
      "\u001b[1;31mModuleNotFoundError\u001b[0m                       Traceback (most recent call last)",
      "\u001b[1;32m<ipython-input-83-0b7ac8a60fa8>\u001b[0m in \u001b[0;36m<module>\u001b[1;34m\u001b[0m\n\u001b[0;32m      5\u001b[0m \u001b[1;32mimport\u001b[0m \u001b[0mos\u001b[0m\u001b[1;33m\u001b[0m\u001b[1;33m\u001b[0m\u001b[0m\n\u001b[0;32m      6\u001b[0m \u001b[1;32mimport\u001b[0m \u001b[0mmissingno\u001b[0m \u001b[1;32mas\u001b[0m \u001b[0mmsno\u001b[0m\u001b[1;33m\u001b[0m\u001b[1;33m\u001b[0m\u001b[0m\n\u001b[1;32m----> 7\u001b[1;33m \u001b[1;32mfrom\u001b[0m \u001b[0mdataprep\u001b[0m\u001b[1;33m.\u001b[0m\u001b[0meda\u001b[0m \u001b[1;32mimport\u001b[0m \u001b[0mplot\u001b[0m\u001b[1;33m,\u001b[0m \u001b[0mplot_correlation\u001b[0m\u001b[1;33m,\u001b[0m \u001b[0mcreate_report\u001b[0m\u001b[1;33m,\u001b[0m \u001b[0mplot_missing\u001b[0m\u001b[1;33m\u001b[0m\u001b[1;33m\u001b[0m\u001b[0m\n\u001b[0m",
      "\u001b[1;31mModuleNotFoundError\u001b[0m: No module named 'dataprep'"
     ]
    }
   ],
   "source": [
    "import pandas as pd\n",
    "import numpy as np\n",
    "import seaborn as sns\n",
    "import matplotlib.pyplot as plt\n",
    "import os\n",
    "import missingno as msno\n",
    "from dataprep.eda import plot, plot_correlation, create_report, plot_missing"
   ]
  },
  {
   "cell_type": "code",
   "execution_count": 55,
   "id": "e6cea513",
   "metadata": {
    "ExecuteTime": {
     "end_time": "2021-09-24T21:36:50.350981Z",
     "start_time": "2021-09-24T21:36:35.380271Z"
    }
   },
   "outputs": [
    {
     "name": "stdout",
     "output_type": "stream",
     "text": [
      "Collecting dataprep\n",
      "  Downloading dataprep-0.3.0-py3-none-any.whl (1.8 MB)Note: you may need to restart the kernel to use updated packages.\n",
      "Requirement already satisfied: numpy<2,>=1 in c:\\users\\alex\\anaconda3\\lib\\site-packages (from dataprep) (1.19.5)\n",
      "Collecting regex<2021.0.0,>=2020.10.15\n",
      "  Downloading regex-2020.11.13-cp38-cp38-win_amd64.whl (270 kB)\n",
      "Requirement already satisfied: tqdm<5.0,>=4.48 in c:\\users\\alex\\anaconda3\\lib\\site-packages (from dataprep) (4.59.0)\n",
      "Requirement already satisfied: ipywidgets<8.0,>=7.5 in c:\\users\\alex\\anaconda3\\lib\\site-packages (from dataprep) (7.6.3)\n",
      "Collecting aiohttp<4.0,>=3.6\n",
      "  Downloading aiohttp-3.7.4.post0-cp38-cp38-win_amd64.whl (635 kB)\n",
      "Collecting jsonpath-ng<2.0,>=1.5\n",
      "  Downloading jsonpath_ng-1.5.3-py3-none-any.whl (29 kB)\n",
      "Collecting python-Levenshtein<0.13.0,>=0.12.2\n",
      "  Downloading python-Levenshtein-0.12.2.tar.gz (50 kB)\n",
      "Collecting usaddress<0.6.0,>=0.5.10\n",
      "  Downloading usaddress-0.5.10-py2.py3-none-any.whl (63 kB)\n",
      "Requirement already satisfied: bokeh<3,>=2 in c:\\users\\alex\\anaconda3\\lib\\site-packages (from dataprep) (2.3.2)\n",
      "Collecting dask[array,dataframe,delayed]<3.0,>=2.25\n"
     ]
    },
    {
     "name": "stderr",
     "output_type": "stream",
     "text": [
      "  ERROR: Command errored out with exit status 1:"
     ]
    },
    {
     "name": "stdout",
     "output_type": "stream",
     "text": [
      "\n",
      "  Downloading dask-2.30.0-py3-none-any.whl (848 kB)\n",
      "Collecting wordcloud<2.0,>=1.8\n",
      "  Downloading wordcloud-1.8.1-cp38-cp38-win_amd64.whl (155 kB)\n",
      "Collecting pydantic<2.0,>=1.6\n",
      "  Downloading pydantic-1.8.2-cp38-cp38-win_amd64.whl (2.0 MB)\n",
      "Requirement already satisfied: scipy<2,>=1 in c:\\users\\alex\\anaconda3\\lib\\site-packages (from dataprep) (1.7.1)\n",
      "Requirement already satisfied: nltk<4.0,>=3.5 in c:\\users\\alex\\anaconda3\\lib\\site-packages (from dataprep) (3.6.1)\n",
      "Collecting metaphone<0.7,>=0.6\n",
      "  Downloading Metaphone-0.6.tar.gz (14 kB)\n",
      "Requirement already satisfied: pandas<2.0,>=1.1 in c:\\users\\alex\\anaconda3\\lib\\site-packages (from dataprep) (1.1.5)\n",
      "Requirement already satisfied: jinja2<3.0,>=2.11 in c:\\users\\alex\\anaconda3\\lib\\site-packages (from dataprep) (2.11.3)\n",
      "Requirement already satisfied: bottleneck<2.0,>=1.3 in c:\\users\\alex\\anaconda3\\lib\\site-packages (from dataprep) (1.3.2)\n",
      "Requirement already satisfied: typing-extensions>=3.6.5 in c:\\users\\alex\\anaconda3\\lib\\site-packages (from aiohttp<4.0,>=3.6->dataprep) (3.7.4.3)\n",
      "Requirement already satisfied: attrs>=17.3.0 in c:\\users\\alex\\anaconda3\\lib\\site-packages (from aiohttp<4.0,>=3.6->dataprep) (20.3.0)\n",
      "Collecting yarl<2.0,>=1.0\n",
      "  Downloading yarl-1.6.3-cp38-cp38-win_amd64.whl (125 kB)\n",
      "Requirement already satisfied: chardet<5.0,>=2.0 in c:\\users\\alex\\anaconda3\\lib\\site-packages (from aiohttp<4.0,>=3.6->dataprep) (4.0.0)\n",
      "Collecting multidict<7.0,>=4.5\n",
      "  Downloading multidict-5.1.0-cp38-cp38-win_amd64.whl (48 kB)\n",
      "Collecting async-timeout<4.0,>=3.0\n",
      "  Downloading async_timeout-3.0.1-py3-none-any.whl (8.2 kB)\n",
      "Requirement already satisfied: PyYAML>=3.10 in c:\\users\\alex\\anaconda3\\lib\\site-packages (from bokeh<3,>=2->dataprep) (5.4.1)\n",
      "Requirement already satisfied: packaging>=16.8 in c:\\users\\alex\\anaconda3\\lib\\site-packages (from bokeh<3,>=2->dataprep) (20.9)\n",
      "Requirement already satisfied: pillow>=7.1.0 in c:\\users\\alex\\anaconda3\\lib\\site-packages (from bokeh<3,>=2->dataprep) (8.2.0)\n",
      "Requirement already satisfied: tornado>=5.1 in c:\\users\\alex\\anaconda3\\lib\\site-packages (from bokeh<3,>=2->dataprep) (6.1)\n",
      "Requirement already satisfied: python-dateutil>=2.1 in c:\\users\\alex\\anaconda3\\lib\\site-packages (from bokeh<3,>=2->dataprep) (2.8.1)\n",
      "Requirement already satisfied: toolz>=0.8.2 in c:\\users\\alex\\anaconda3\\lib\\site-packages (from dask[array,dataframe,delayed]<3.0,>=2.25->dataprep) (0.11.1)\n",
      "Requirement already satisfied: cloudpickle>=0.2.2 in c:\\users\\alex\\anaconda3\\lib\\site-packages (from dask[array,dataframe,delayed]<3.0,>=2.25->dataprep) (1.6.0)\n",
      "Requirement already satisfied: fsspec>=0.6.0 in c:\\users\\alex\\anaconda3\\lib\\site-packages (from dask[array,dataframe,delayed]<3.0,>=2.25->dataprep) (0.9.0)\n",
      "Requirement already satisfied: partd>=0.3.10 in c:\\users\\alex\\anaconda3\\lib\\site-packages (from dask[array,dataframe,delayed]<3.0,>=2.25->dataprep) (1.2.0)\n",
      "Requirement already satisfied: widgetsnbextension~=3.5.0 in c:\\users\\alex\\anaconda3\\lib\\site-packages (from ipywidgets<8.0,>=7.5->dataprep) (3.5.1)\n",
      "Requirement already satisfied: ipykernel>=4.5.1 in c:\\users\\alex\\anaconda3\\lib\\site-packages (from ipywidgets<8.0,>=7.5->dataprep) (5.3.4)\n",
      "Requirement already satisfied: ipython>=4.0.0 in c:\\users\\alex\\anaconda3\\lib\\site-packages (from ipywidgets<8.0,>=7.5->dataprep) (7.22.0)\n",
      "Requirement already satisfied: traitlets>=4.3.1 in c:\\users\\alex\\anaconda3\\lib\\site-packages (from ipywidgets<8.0,>=7.5->dataprep) (5.0.5)\n",
      "Requirement already satisfied: jupyterlab-widgets>=1.0.0 in c:\\users\\alex\\anaconda3\\lib\\site-packages (from ipywidgets<8.0,>=7.5->dataprep) (1.0.0)\n",
      "Requirement already satisfied: nbformat>=4.2.0 in c:\\users\\alex\\anaconda3\\lib\\site-packages (from ipywidgets<8.0,>=7.5->dataprep) (5.1.3)\n",
      "Requirement already satisfied: jupyter-client in c:\\users\\alex\\anaconda3\\lib\\site-packages (from ipykernel>=4.5.1->ipywidgets<8.0,>=7.5->dataprep) (6.1.12)\n",
      "Requirement already satisfied: decorator in c:\\users\\alex\\anaconda3\\lib\\site-packages (from ipython>=4.0.0->ipywidgets<8.0,>=7.5->dataprep) (5.0.6)\n",
      "Requirement already satisfied: jedi>=0.16 in c:\\users\\alex\\anaconda3\\lib\\site-packages (from ipython>=4.0.0->ipywidgets<8.0,>=7.5->dataprep) (0.17.2)\n",
      "Requirement already satisfied: pygments in c:\\users\\alex\\anaconda3\\lib\\site-packages (from ipython>=4.0.0->ipywidgets<8.0,>=7.5->dataprep) (2.8.1)\n",
      "Requirement already satisfied: setuptools>=18.5 in c:\\users\\alex\\anaconda3\\lib\\site-packages (from ipython>=4.0.0->ipywidgets<8.0,>=7.5->dataprep) (52.0.0.post20210125)\n",
      "Requirement already satisfied: pickleshare in c:\\users\\alex\\anaconda3\\lib\\site-packages (from ipython>=4.0.0->ipywidgets<8.0,>=7.5->dataprep) (0.7.5)\n",
      "Requirement already satisfied: colorama in c:\\users\\alex\\anaconda3\\lib\\site-packages (from ipython>=4.0.0->ipywidgets<8.0,>=7.5->dataprep) (0.4.4)\n",
      "Requirement already satisfied: prompt-toolkit!=3.0.0,!=3.0.1,<3.1.0,>=2.0.0 in c:\\users\\alex\\anaconda3\\lib\\site-packages (from ipython>=4.0.0->ipywidgets<8.0,>=7.5->dataprep) (3.0.17)\n",
      "Requirement already satisfied: backcall in c:\\users\\alex\\anaconda3\\lib\\site-packages (from ipython>=4.0.0->ipywidgets<8.0,>=7.5->dataprep) (0.2.0)\n",
      "Requirement already satisfied: parso<0.8.0,>=0.7.0 in c:\\users\\alex\\anaconda3\\lib\\site-packages (from jedi>=0.16->ipython>=4.0.0->ipywidgets<8.0,>=7.5->dataprep) (0.7.0)\n",
      "Requirement already satisfied: MarkupSafe>=0.23 in c:\\users\\alex\\anaconda3\\lib\\site-packages (from jinja2<3.0,>=2.11->dataprep) (1.1.1)\n",
      "Requirement already satisfied: six in c:\\users\\alex\\anaconda3\\lib\\site-packages (from jsonpath-ng<2.0,>=1.5->dataprep) (1.15.0)\n",
      "Requirement already satisfied: ply in c:\\users\\alex\\anaconda3\\lib\\site-packages (from jsonpath-ng<2.0,>=1.5->dataprep) (3.11)\n",
      "Requirement already satisfied: jsonschema!=2.5.0,>=2.4 in c:\\users\\alex\\anaconda3\\lib\\site-packages (from nbformat>=4.2.0->ipywidgets<8.0,>=7.5->dataprep) (3.2.0)\n",
      "Requirement already satisfied: jupyter-core in c:\\users\\alex\\anaconda3\\lib\\site-packages (from nbformat>=4.2.0->ipywidgets<8.0,>=7.5->dataprep) (4.7.1)\n",
      "Requirement already satisfied: ipython-genutils in c:\\users\\alex\\anaconda3\\lib\\site-packages (from nbformat>=4.2.0->ipywidgets<8.0,>=7.5->dataprep) (0.2.0)\n",
      "Requirement already satisfied: pyrsistent>=0.14.0 in c:\\users\\alex\\anaconda3\\lib\\site-packages (from jsonschema!=2.5.0,>=2.4->nbformat>=4.2.0->ipywidgets<8.0,>=7.5->dataprep) (0.17.3)\n",
      "Requirement already satisfied: click in c:\\users\\alex\\anaconda3\\lib\\site-packages (from nltk<4.0,>=3.5->dataprep) (7.1.2)\n",
      "Requirement already satisfied: joblib in c:\\users\\alex\\anaconda3\\lib\\site-packages (from nltk<4.0,>=3.5->dataprep) (1.0.1)\n",
      "Requirement already satisfied: pyparsing>=2.0.2 in c:\\users\\alex\\anaconda3\\lib\\site-packages (from packaging>=16.8->bokeh<3,>=2->dataprep) (2.4.7)\n",
      "Requirement already satisfied: pytz>=2017.2 in c:\\users\\alex\\anaconda3\\lib\\site-packages (from pandas<2.0,>=1.1->dataprep) (2021.1)\n",
      "Requirement already satisfied: locket in c:\\users\\alex\\anaconda3\\lib\\site-packages\\locket-0.2.1-py3.8.egg (from partd>=0.3.10->dask[array,dataframe,delayed]<3.0,>=2.25->dataprep) (0.2.1)\n",
      "Requirement already satisfied: wcwidth in c:\\users\\alex\\anaconda3\\lib\\site-packages (from prompt-toolkit!=3.0.0,!=3.0.1,<3.1.0,>=2.0.0->ipython>=4.0.0->ipywidgets<8.0,>=7.5->dataprep) (0.2.5)\n",
      "Collecting probableparsing\n",
      "  Downloading probableparsing-0.0.1-py2.py3-none-any.whl (3.1 kB)\n",
      "Collecting python-crfsuite>=0.7\n",
      "  Downloading python_crfsuite-0.9.7-cp38-cp38-win_amd64.whl (156 kB)\n",
      "Requirement already satisfied: future>=0.14 in c:\\users\\alex\\anaconda3\\lib\\site-packages (from usaddress<0.6.0,>=0.5.10->dataprep) (0.18.2)\n",
      "Requirement already satisfied: notebook>=4.4.1 in c:\\users\\alex\\anaconda3\\lib\\site-packages (from widgetsnbextension~=3.5.0->ipywidgets<8.0,>=7.5->dataprep) (6.3.0)\n",
      "Requirement already satisfied: nbconvert in c:\\users\\alex\\anaconda3\\lib\\site-packages (from notebook>=4.4.1->widgetsnbextension~=3.5.0->ipywidgets<8.0,>=7.5->dataprep) (6.0.7)\n",
      "Requirement already satisfied: terminado>=0.8.3 in c:\\users\\alex\\anaconda3\\lib\\site-packages (from notebook>=4.4.1->widgetsnbextension~=3.5.0->ipywidgets<8.0,>=7.5->dataprep) (0.9.4)\n",
      "Requirement already satisfied: argon2-cffi in c:\\users\\alex\\anaconda3\\lib\\site-packages (from notebook>=4.4.1->widgetsnbextension~=3.5.0->ipywidgets<8.0,>=7.5->dataprep) (20.1.0)\n",
      "Requirement already satisfied: pyzmq>=17 in c:\\users\\alex\\anaconda3\\lib\\site-packages (from notebook>=4.4.1->widgetsnbextension~=3.5.0->ipywidgets<8.0,>=7.5->dataprep) (20.0.0)\n",
      "Requirement already satisfied: Send2Trash>=1.5.0 in c:\\users\\alex\\anaconda3\\lib\\site-packages (from notebook>=4.4.1->widgetsnbextension~=3.5.0->ipywidgets<8.0,>=7.5->dataprep) (1.5.0)\n",
      "Requirement already satisfied: prometheus-client in c:\\users\\alex\\anaconda3\\lib\\site-packages (from notebook>=4.4.1->widgetsnbextension~=3.5.0->ipywidgets<8.0,>=7.5->dataprep) (0.10.1)\n",
      "Requirement already satisfied: pywin32>=1.0 in c:\\users\\alex\\anaconda3\\lib\\site-packages (from jupyter-core->nbformat>=4.2.0->ipywidgets<8.0,>=7.5->dataprep) (227)\n",
      "Requirement already satisfied: pywinpty>=0.5 in c:\\users\\alex\\anaconda3\\lib\\site-packages (from terminado>=0.8.3->notebook>=4.4.1->widgetsnbextension~=3.5.0->ipywidgets<8.0,>=7.5->dataprep) (0.5.7)\n",
      "Requirement already satisfied: matplotlib in c:\\users\\alex\\anaconda3\\lib\\site-packages (from wordcloud<2.0,>=1.8->dataprep) (3.4.2)\n",
      "Requirement already satisfied: idna>=2.0 in c:\\users\\alex\\anaconda3\\lib\\site-packages (from yarl<2.0,>=1.0->aiohttp<4.0,>=3.6->dataprep) (2.10)\n",
      "Requirement already satisfied: cffi>=1.0.0 in c:\\users\\alex\\anaconda3\\lib\\site-packages (from argon2-cffi->notebook>=4.4.1->widgetsnbextension~=3.5.0->ipywidgets<8.0,>=7.5->dataprep) (1.14.5)\n",
      "Requirement already satisfied: pycparser in c:\\users\\alex\\anaconda3\\lib\\site-packages (from cffi>=1.0.0->argon2-cffi->notebook>=4.4.1->widgetsnbextension~=3.5.0->ipywidgets<8.0,>=7.5->dataprep) (2.20)\n",
      "Requirement already satisfied: kiwisolver>=1.0.1 in c:\\users\\alex\\anaconda3\\lib\\site-packages (from matplotlib->wordcloud<2.0,>=1.8->dataprep) (1.3.1)\n",
      "Requirement already satisfied: cycler>=0.10 in c:\\users\\alex\\anaconda3\\lib\\site-packages (from matplotlib->wordcloud<2.0,>=1.8->dataprep) (0.10.0)\n",
      "Requirement already satisfied: mistune<2,>=0.8.1 in c:\\users\\alex\\anaconda3\\lib\\site-packages (from nbconvert->notebook>=4.4.1->widgetsnbextension~=3.5.0->ipywidgets<8.0,>=7.5->dataprep) (0.8.4)\n",
      "Requirement already satisfied: jupyterlab-pygments in c:\\users\\alex\\anaconda3\\lib\\site-packages (from nbconvert->notebook>=4.4.1->widgetsnbextension~=3.5.0->ipywidgets<8.0,>=7.5->dataprep) (0.1.2)\n",
      "Requirement already satisfied: bleach in c:\\users\\alex\\anaconda3\\lib\\site-packages (from nbconvert->notebook>=4.4.1->widgetsnbextension~=3.5.0->ipywidgets<8.0,>=7.5->dataprep) (3.3.0)\n",
      "Requirement already satisfied: pandocfilters>=1.4.1 in c:\\users\\alex\\anaconda3\\lib\\site-packages (from nbconvert->notebook>=4.4.1->widgetsnbextension~=3.5.0->ipywidgets<8.0,>=7.5->dataprep) (1.4.3)\n",
      "Requirement already satisfied: testpath in c:\\users\\alex\\anaconda3\\lib\\site-packages (from nbconvert->notebook>=4.4.1->widgetsnbextension~=3.5.0->ipywidgets<8.0,>=7.5->dataprep) (0.4.4)\n",
      "Requirement already satisfied: nbclient<0.6.0,>=0.5.0 in c:\\users\\alex\\anaconda3\\lib\\site-packages (from nbconvert->notebook>=4.4.1->widgetsnbextension~=3.5.0->ipywidgets<8.0,>=7.5->dataprep) (0.5.3)\n",
      "Requirement already satisfied: defusedxml in c:\\users\\alex\\anaconda3\\lib\\site-packages (from nbconvert->notebook>=4.4.1->widgetsnbextension~=3.5.0->ipywidgets<8.0,>=7.5->dataprep) (0.7.1)\n",
      "Requirement already satisfied: entrypoints>=0.2.2 in c:\\users\\alex\\anaconda3\\lib\\site-packages (from nbconvert->notebook>=4.4.1->widgetsnbextension~=3.5.0->ipywidgets<8.0,>=7.5->dataprep) (0.3)\n",
      "Requirement already satisfied: nest-asyncio in c:\\users\\alex\\anaconda3\\lib\\site-packages (from nbclient<0.6.0,>=0.5.0->nbconvert->notebook>=4.4.1->widgetsnbextension~=3.5.0->ipywidgets<8.0,>=7.5->dataprep) (1.5.1)\n",
      "Requirement already satisfied: async-generator in c:\\users\\alex\\anaconda3\\lib\\site-packages (from nbclient<0.6.0,>=0.5.0->nbconvert->notebook>=4.4.1->widgetsnbextension~=3.5.0->ipywidgets<8.0,>=7.5->dataprep) (1.10)\n",
      "Requirement already satisfied: webencodings in c:\\users\\alex\\anaconda3\\lib\\site-packages (from bleach->nbconvert->notebook>=4.4.1->widgetsnbextension~=3.5.0->ipywidgets<8.0,>=7.5->dataprep) (0.5.1)\n",
      "Building wheels for collected packages: metaphone, python-Levenshtein\n",
      "  Building wheel for metaphone (setup.py): started\n",
      "  Building wheel for metaphone (setup.py): finished with status 'done'\n",
      "  Created wheel for metaphone: filename=Metaphone-0.6-py3-none-any.whl size=13905 sha256=33bee1d989d7a4160516736da2d6d632714277d66408a59f4f44b4b4dae8d26b\n",
      "  Stored in directory: c:\\users\\alex\\appdata\\local\\pip\\cache\\wheels\\ea\\4e\\3b\\0634f08a7980461ad630fa4147cbd25913b008b4a02992ba66\n",
      "  Building wheel for python-Levenshtein (setup.py): started\n",
      "  Building wheel for python-Levenshtein (setup.py): finished with status 'error'\n",
      "  Running setup.py clean for python-Levenshtein\n",
      "Successfully built metaphone\n",
      "Failed to build python-Levenshtein\n",
      "Installing collected packages: multidict, yarl, regex, python-crfsuite, probableparsing, dask, async-timeout, wordcloud, usaddress, python-Levenshtein, pydantic, metaphone, jsonpath-ng, aiohttp, dataprep\n",
      "  Attempting uninstall: regex\n",
      "    Found existing installation: regex 2021.4.4\n",
      "    Uninstalling regex-2021.4.4:\n",
      "      Successfully uninstalled regex-2021.4.4\n",
      "  Attempting uninstall: dask\n",
      "    Found existing installation: dask 2021.4.0\n",
      "    Uninstalling dask-2021.4.0:\n",
      "      Successfully uninstalled dask-2021.4.0\n",
      "    Running setup.py install for python-Levenshtein: started\n",
      "    Running setup.py install for python-Levenshtein: finished with status 'error'\n"
     ]
    },
    {
     "name": "stderr",
     "output_type": "stream",
     "text": [
      "\n",
      "   command: 'C:\\Users\\Alex\\anaconda3\\python.exe' -u -c 'import sys, setuptools, tokenize; sys.argv[0] = '\"'\"'C:\\\\Users\\\\Alex\\\\AppData\\\\Local\\\\Temp\\\\pip-install-lch5cm63\\\\python-levenshtein_82dabf62aea84468abc2b87d6ac4491f\\\\setup.py'\"'\"'; __file__='\"'\"'C:\\\\Users\\\\Alex\\\\AppData\\\\Local\\\\Temp\\\\pip-install-lch5cm63\\\\python-levenshtein_82dabf62aea84468abc2b87d6ac4491f\\\\setup.py'\"'\"';f=getattr(tokenize, '\"'\"'open'\"'\"', open)(__file__);code=f.read().replace('\"'\"'\\r\\n'\"'\"', '\"'\"'\\n'\"'\"');f.close();exec(compile(code, __file__, '\"'\"'exec'\"'\"'))' bdist_wheel -d 'C:\\Users\\Alex\\AppData\\Local\\Temp\\pip-wheel-y33ap3lm'\n",
      "       cwd: C:\\Users\\Alex\\AppData\\Local\\Temp\\pip-install-lch5cm63\\python-levenshtein_82dabf62aea84468abc2b87d6ac4491f\\\n",
      "  Complete output (27 lines):\n",
      "  running bdist_wheel\n",
      "  running build\n",
      "  running build_py\n",
      "  creating build\n",
      "  creating build\\lib.win-amd64-3.8\n",
      "  creating build\\lib.win-amd64-3.8\\Levenshtein\n",
      "  copying Levenshtein\\StringMatcher.py -> build\\lib.win-amd64-3.8\\Levenshtein\n",
      "  copying Levenshtein\\__init__.py -> build\\lib.win-amd64-3.8\\Levenshtein\n",
      "  running egg_info\n",
      "  writing python_Levenshtein.egg-info\\PKG-INFO\n",
      "  writing dependency_links to python_Levenshtein.egg-info\\dependency_links.txt\n",
      "  writing entry points to python_Levenshtein.egg-info\\entry_points.txt\n",
      "  writing namespace_packages to python_Levenshtein.egg-info\\namespace_packages.txt\n",
      "  writing requirements to python_Levenshtein.egg-info\\requires.txt\n",
      "  writing top-level names to python_Levenshtein.egg-info\\top_level.txt\n",
      "  reading manifest file 'python_Levenshtein.egg-info\\SOURCES.txt'\n",
      "  reading manifest template 'MANIFEST.in'\n",
      "  warning: no previously-included files matching '*pyc' found anywhere in distribution\n",
      "  warning: no previously-included files matching '*so' found anywhere in distribution\n",
      "  warning: no previously-included files matching '.project' found anywhere in distribution\n",
      "  warning: no previously-included files matching '.pydevproject' found anywhere in distribution\n",
      "  writing manifest file 'python_Levenshtein.egg-info\\SOURCES.txt'\n",
      "  copying Levenshtein\\_levenshtein.c -> build\\lib.win-amd64-3.8\\Levenshtein\n",
      "  copying Levenshtein\\_levenshtein.h -> build\\lib.win-amd64-3.8\\Levenshtein\n",
      "  running build_ext\n",
      "  building 'Levenshtein._levenshtein' extension\n",
      "  error: Microsoft Visual C++ 14.0 or greater is required. Get it with \"Microsoft C++ Build Tools\": https://visualstudio.microsoft.com/visual-cpp-build-tools/\n",
      "  ----------------------------------------\n",
      "  ERROR: Failed building wheel for python-Levenshtein\n",
      "    ERROR: Command errored out with exit status 1:\n",
      "     command: 'C:\\Users\\Alex\\anaconda3\\python.exe' -u -c 'import sys, setuptools, tokenize; sys.argv[0] = '\"'\"'C:\\\\Users\\\\Alex\\\\AppData\\\\Local\\\\Temp\\\\pip-install-lch5cm63\\\\python-levenshtein_82dabf62aea84468abc2b87d6ac4491f\\\\setup.py'\"'\"'; __file__='\"'\"'C:\\\\Users\\\\Alex\\\\AppData\\\\Local\\\\Temp\\\\pip-install-lch5cm63\\\\python-levenshtein_82dabf62aea84468abc2b87d6ac4491f\\\\setup.py'\"'\"';f=getattr(tokenize, '\"'\"'open'\"'\"', open)(__file__);code=f.read().replace('\"'\"'\\r\\n'\"'\"', '\"'\"'\\n'\"'\"');f.close();exec(compile(code, __file__, '\"'\"'exec'\"'\"'))' install --record 'C:\\Users\\Alex\\AppData\\Local\\Temp\\pip-record-awx1559k\\install-record.txt' --single-version-externally-managed --compile --install-headers 'C:\\Users\\Alex\\anaconda3\\Include\\python-Levenshtein'\n",
      "         cwd: C:\\Users\\Alex\\AppData\\Local\\Temp\\pip-install-lch5cm63\\python-levenshtein_82dabf62aea84468abc2b87d6ac4491f\\\n",
      "    Complete output (27 lines):\n",
      "    running install\n",
      "    running build\n",
      "    running build_py\n",
      "    creating build\n",
      "    creating build\\lib.win-amd64-3.8\n",
      "    creating build\\lib.win-amd64-3.8\\Levenshtein\n",
      "    copying Levenshtein\\StringMatcher.py -> build\\lib.win-amd64-3.8\\Levenshtein\n",
      "    copying Levenshtein\\__init__.py -> build\\lib.win-amd64-3.8\\Levenshtein\n",
      "    running egg_info\n",
      "    writing python_Levenshtein.egg-info\\PKG-INFO\n",
      "    writing dependency_links to python_Levenshtein.egg-info\\dependency_links.txt\n",
      "    writing entry points to python_Levenshtein.egg-info\\entry_points.txt\n",
      "    writing namespace_packages to python_Levenshtein.egg-info\\namespace_packages.txt\n",
      "    writing requirements to python_Levenshtein.egg-info\\requires.txt\n",
      "    writing top-level names to python_Levenshtein.egg-info\\top_level.txt\n",
      "    reading manifest file 'python_Levenshtein.egg-info\\SOURCES.txt'\n",
      "    reading manifest template 'MANIFEST.in'\n",
      "    warning: no previously-included files matching '*pyc' found anywhere in distribution\n",
      "    warning: no previously-included files matching '*so' found anywhere in distribution\n",
      "    warning: no previously-included files matching '.project' found anywhere in distribution\n",
      "    warning: no previously-included files matching '.pydevproject' found anywhere in distribution\n",
      "    writing manifest file 'python_Levenshtein.egg-info\\SOURCES.txt'\n",
      "    copying Levenshtein\\_levenshtein.c -> build\\lib.win-amd64-3.8\\Levenshtein\n",
      "    copying Levenshtein\\_levenshtein.h -> build\\lib.win-amd64-3.8\\Levenshtein\n",
      "    running build_ext\n",
      "    building 'Levenshtein._levenshtein' extension\n",
      "    error: Microsoft Visual C++ 14.0 or greater is required. Get it with \"Microsoft C++ Build Tools\": https://visualstudio.microsoft.com/visual-cpp-build-tools/\n",
      "    ----------------------------------------\n",
      "ERROR: Command errored out with exit status 1: 'C:\\Users\\Alex\\anaconda3\\python.exe' -u -c 'import sys, setuptools, tokenize; sys.argv[0] = '\"'\"'C:\\\\Users\\\\Alex\\\\AppData\\\\Local\\\\Temp\\\\pip-install-lch5cm63\\\\python-levenshtein_82dabf62aea84468abc2b87d6ac4491f\\\\setup.py'\"'\"'; __file__='\"'\"'C:\\\\Users\\\\Alex\\\\AppData\\\\Local\\\\Temp\\\\pip-install-lch5cm63\\\\python-levenshtein_82dabf62aea84468abc2b87d6ac4491f\\\\setup.py'\"'\"';f=getattr(tokenize, '\"'\"'open'\"'\"', open)(__file__);code=f.read().replace('\"'\"'\\r\\n'\"'\"', '\"'\"'\\n'\"'\"');f.close();exec(compile(code, __file__, '\"'\"'exec'\"'\"'))' install --record 'C:\\Users\\Alex\\AppData\\Local\\Temp\\pip-record-awx1559k\\install-record.txt' --single-version-externally-managed --compile --install-headers 'C:\\Users\\Alex\\anaconda3\\Include\\python-Levenshtein' Check the logs for full command output.\n"
     ]
    }
   ],
   "source": [
    "pip install -U dataprep"
   ]
  },
  {
   "cell_type": "code",
   "execution_count": 7,
   "id": "6c919c51",
   "metadata": {
    "ExecuteTime": {
     "end_time": "2021-09-24T21:10:39.610753Z",
     "start_time": "2021-09-24T21:10:39.596791Z"
    }
   },
   "outputs": [],
   "source": [
    "path = '../data/2021_raifhack/data'"
   ]
  },
  {
   "cell_type": "code",
   "execution_count": 9,
   "id": "eb48e700",
   "metadata": {
    "ExecuteTime": {
     "end_time": "2021-09-24T21:11:06.881982Z",
     "start_time": "2021-09-24T21:11:05.268445Z"
    }
   },
   "outputs": [
    {
     "name": "stderr",
     "output_type": "stream",
     "text": [
      "C:\\Users\\Alex\\anaconda3\\lib\\site-packages\\IPython\\core\\interactiveshell.py:3165: DtypeWarning: Columns (1) have mixed types.Specify dtype option on import or set low_memory=False.\n",
      "  has_raised = await self.run_ast_nodes(code_ast.body, cell_name,\n"
     ]
    }
   ],
   "source": [
    "df = pd.read_csv(os.path.join(path, 'train.csv'))"
   ]
  },
  {
   "cell_type": "code",
   "execution_count": 10,
   "id": "20208252",
   "metadata": {
    "ExecuteTime": {
     "end_time": "2021-09-24T21:11:15.375375Z",
     "start_time": "2021-09-24T21:11:15.369412Z"
    }
   },
   "outputs": [
    {
     "data": {
      "text/plain": [
       "(279792, 77)"
      ]
     },
     "execution_count": 10,
     "metadata": {},
     "output_type": "execute_result"
    }
   ],
   "source": [
    "df.shape"
   ]
  },
  {
   "cell_type": "code",
   "execution_count": 11,
   "id": "d202da40",
   "metadata": {
    "ExecuteTime": {
     "end_time": "2021-09-24T21:11:24.974364Z",
     "start_time": "2021-09-24T21:11:24.940153Z"
    }
   },
   "outputs": [
    {
     "data": {
      "text/html": [
       "<div>\n",
       "<style scoped>\n",
       "    .dataframe tbody tr th:only-of-type {\n",
       "        vertical-align: middle;\n",
       "    }\n",
       "\n",
       "    .dataframe tbody tr th {\n",
       "        vertical-align: top;\n",
       "    }\n",
       "\n",
       "    .dataframe thead th {\n",
       "        text-align: right;\n",
       "    }\n",
       "</style>\n",
       "<table border=\"1\" class=\"dataframe\">\n",
       "  <thead>\n",
       "    <tr style=\"text-align: right;\">\n",
       "      <th></th>\n",
       "      <th>city</th>\n",
       "      <th>floor</th>\n",
       "      <th>id</th>\n",
       "      <th>lat</th>\n",
       "      <th>lng</th>\n",
       "      <th>osm_amenity_points_in_0.001</th>\n",
       "      <th>osm_amenity_points_in_0.005</th>\n",
       "      <th>osm_amenity_points_in_0.0075</th>\n",
       "      <th>osm_amenity_points_in_0.01</th>\n",
       "      <th>osm_building_points_in_0.001</th>\n",
       "      <th>...</th>\n",
       "      <th>reform_mean_floor_count_1000</th>\n",
       "      <th>reform_mean_floor_count_500</th>\n",
       "      <th>reform_mean_year_building_1000</th>\n",
       "      <th>reform_mean_year_building_500</th>\n",
       "      <th>region</th>\n",
       "      <th>total_square</th>\n",
       "      <th>street</th>\n",
       "      <th>date</th>\n",
       "      <th>realty_type</th>\n",
       "      <th>price_type</th>\n",
       "    </tr>\n",
       "  </thead>\n",
       "  <tbody>\n",
       "    <tr>\n",
       "      <th>0</th>\n",
       "      <td>Пермь</td>\n",
       "      <td>NaN</td>\n",
       "      <td>COL_0</td>\n",
       "      <td>57.998207</td>\n",
       "      <td>56.292797</td>\n",
       "      <td>4</td>\n",
       "      <td>19</td>\n",
       "      <td>35</td>\n",
       "      <td>52</td>\n",
       "      <td>0</td>\n",
       "      <td>...</td>\n",
       "      <td>5.762963</td>\n",
       "      <td>5.530612</td>\n",
       "      <td>1964.118519</td>\n",
       "      <td>1960.959184</td>\n",
       "      <td>Пермский край</td>\n",
       "      <td>32.0</td>\n",
       "      <td>S27289</td>\n",
       "      <td>2020-01-05</td>\n",
       "      <td>10</td>\n",
       "      <td>0</td>\n",
       "    </tr>\n",
       "    <tr>\n",
       "      <th>1</th>\n",
       "      <td>Шатура</td>\n",
       "      <td>NaN</td>\n",
       "      <td>COL_1</td>\n",
       "      <td>55.574284</td>\n",
       "      <td>39.543835</td>\n",
       "      <td>3</td>\n",
       "      <td>24</td>\n",
       "      <td>37</td>\n",
       "      <td>59</td>\n",
       "      <td>0</td>\n",
       "      <td>...</td>\n",
       "      <td>2.894366</td>\n",
       "      <td>3.527778</td>\n",
       "      <td>1952.321678</td>\n",
       "      <td>1957.222222</td>\n",
       "      <td>Московская область</td>\n",
       "      <td>280.0</td>\n",
       "      <td>S17052</td>\n",
       "      <td>2020-01-05</td>\n",
       "      <td>10</td>\n",
       "      <td>0</td>\n",
       "    </tr>\n",
       "    <tr>\n",
       "      <th>2</th>\n",
       "      <td>Ярославль</td>\n",
       "      <td>NaN</td>\n",
       "      <td>COL_2</td>\n",
       "      <td>57.619140</td>\n",
       "      <td>39.850525</td>\n",
       "      <td>1</td>\n",
       "      <td>30</td>\n",
       "      <td>67</td>\n",
       "      <td>128</td>\n",
       "      <td>0</td>\n",
       "      <td>...</td>\n",
       "      <td>6.141414</td>\n",
       "      <td>7.222222</td>\n",
       "      <td>1968.150000</td>\n",
       "      <td>1973.370370</td>\n",
       "      <td>Ярославская область</td>\n",
       "      <td>297.4</td>\n",
       "      <td>S16913</td>\n",
       "      <td>2020-01-05</td>\n",
       "      <td>110</td>\n",
       "      <td>0</td>\n",
       "    </tr>\n",
       "    <tr>\n",
       "      <th>3</th>\n",
       "      <td>Новокузнецк</td>\n",
       "      <td>NaN</td>\n",
       "      <td>COL_3</td>\n",
       "      <td>53.897083</td>\n",
       "      <td>87.108604</td>\n",
       "      <td>0</td>\n",
       "      <td>0</td>\n",
       "      <td>5</td>\n",
       "      <td>21</td>\n",
       "      <td>0</td>\n",
       "      <td>...</td>\n",
       "      <td>8.581081</td>\n",
       "      <td>9.000000</td>\n",
       "      <td>1992.716216</td>\n",
       "      <td>2014.000000</td>\n",
       "      <td>Кемеровская область</td>\n",
       "      <td>190.0</td>\n",
       "      <td>S10148</td>\n",
       "      <td>2020-01-05</td>\n",
       "      <td>110</td>\n",
       "      <td>0</td>\n",
       "    </tr>\n",
       "    <tr>\n",
       "      <th>4</th>\n",
       "      <td>Москва</td>\n",
       "      <td>NaN</td>\n",
       "      <td>COL_4</td>\n",
       "      <td>55.802590</td>\n",
       "      <td>37.487110</td>\n",
       "      <td>1</td>\n",
       "      <td>23</td>\n",
       "      <td>64</td>\n",
       "      <td>153</td>\n",
       "      <td>0</td>\n",
       "      <td>...</td>\n",
       "      <td>7.263889</td>\n",
       "      <td>5.684211</td>\n",
       "      <td>1963.229167</td>\n",
       "      <td>1960.500000</td>\n",
       "      <td>Москва</td>\n",
       "      <td>60.2</td>\n",
       "      <td>S1338</td>\n",
       "      <td>2020-01-05</td>\n",
       "      <td>10</td>\n",
       "      <td>0</td>\n",
       "    </tr>\n",
       "  </tbody>\n",
       "</table>\n",
       "<p>5 rows × 77 columns</p>\n",
       "</div>"
      ],
      "text/plain": [
       "          city floor     id        lat        lng  \\\n",
       "0        Пермь   NaN  COL_0  57.998207  56.292797   \n",
       "1       Шатура   NaN  COL_1  55.574284  39.543835   \n",
       "2    Ярославль   NaN  COL_2  57.619140  39.850525   \n",
       "3  Новокузнецк   NaN  COL_3  53.897083  87.108604   \n",
       "4       Москва   NaN  COL_4  55.802590  37.487110   \n",
       "\n",
       "   osm_amenity_points_in_0.001  osm_amenity_points_in_0.005  \\\n",
       "0                            4                           19   \n",
       "1                            3                           24   \n",
       "2                            1                           30   \n",
       "3                            0                            0   \n",
       "4                            1                           23   \n",
       "\n",
       "   osm_amenity_points_in_0.0075  osm_amenity_points_in_0.01  \\\n",
       "0                            35                          52   \n",
       "1                            37                          59   \n",
       "2                            67                         128   \n",
       "3                             5                          21   \n",
       "4                            64                         153   \n",
       "\n",
       "   osm_building_points_in_0.001  ...  reform_mean_floor_count_1000  \\\n",
       "0                             0  ...                      5.762963   \n",
       "1                             0  ...                      2.894366   \n",
       "2                             0  ...                      6.141414   \n",
       "3                             0  ...                      8.581081   \n",
       "4                             0  ...                      7.263889   \n",
       "\n",
       "   reform_mean_floor_count_500  reform_mean_year_building_1000  \\\n",
       "0                     5.530612                     1964.118519   \n",
       "1                     3.527778                     1952.321678   \n",
       "2                     7.222222                     1968.150000   \n",
       "3                     9.000000                     1992.716216   \n",
       "4                     5.684211                     1963.229167   \n",
       "\n",
       "   reform_mean_year_building_500               region  total_square  street  \\\n",
       "0                    1960.959184        Пермский край          32.0  S27289   \n",
       "1                    1957.222222   Московская область         280.0  S17052   \n",
       "2                    1973.370370  Ярославская область         297.4  S16913   \n",
       "3                    2014.000000  Кемеровская область         190.0  S10148   \n",
       "4                    1960.500000               Москва          60.2   S1338   \n",
       "\n",
       "         date realty_type  price_type  \n",
       "0  2020-01-05          10           0  \n",
       "1  2020-01-05          10           0  \n",
       "2  2020-01-05         110           0  \n",
       "3  2020-01-05         110           0  \n",
       "4  2020-01-05          10           0  \n",
       "\n",
       "[5 rows x 77 columns]"
      ]
     },
     "execution_count": 11,
     "metadata": {},
     "output_type": "execute_result"
    }
   ],
   "source": [
    "df.head()"
   ]
  },
  {
   "cell_type": "code",
   "execution_count": 12,
   "id": "42e4e2e4",
   "metadata": {
    "ExecuteTime": {
     "end_time": "2021-09-24T21:12:22.544358Z",
     "start_time": "2021-09-24T21:12:22.532348Z"
    }
   },
   "outputs": [
    {
     "data": {
      "text/plain": [
       "Index(['city', 'floor', 'id', 'lat', 'lng', 'osm_amenity_points_in_0.001',\n",
       "       'osm_amenity_points_in_0.005', 'osm_amenity_points_in_0.0075',\n",
       "       'osm_amenity_points_in_0.01', 'osm_building_points_in_0.001',\n",
       "       'osm_building_points_in_0.005', 'osm_building_points_in_0.0075',\n",
       "       'osm_building_points_in_0.01', 'osm_catering_points_in_0.001',\n",
       "       'osm_catering_points_in_0.005', 'osm_catering_points_in_0.0075',\n",
       "       'osm_catering_points_in_0.01', 'osm_city_closest_dist',\n",
       "       'osm_city_nearest_name', 'osm_city_nearest_population',\n",
       "       'osm_crossing_closest_dist', 'osm_crossing_points_in_0.001',\n",
       "       'osm_crossing_points_in_0.005', 'osm_crossing_points_in_0.0075',\n",
       "       'osm_crossing_points_in_0.01', 'osm_culture_points_in_0.001',\n",
       "       'osm_culture_points_in_0.005', 'osm_culture_points_in_0.0075',\n",
       "       'osm_culture_points_in_0.01', 'osm_finance_points_in_0.001',\n",
       "       'osm_finance_points_in_0.005', 'osm_finance_points_in_0.0075',\n",
       "       'osm_finance_points_in_0.01', 'osm_healthcare_points_in_0.005',\n",
       "       'osm_healthcare_points_in_0.0075', 'osm_healthcare_points_in_0.01',\n",
       "       'osm_historic_points_in_0.005', 'osm_historic_points_in_0.0075',\n",
       "       'osm_historic_points_in_0.01', 'osm_hotels_points_in_0.005',\n",
       "       'osm_hotels_points_in_0.0075', 'osm_hotels_points_in_0.01',\n",
       "       'osm_leisure_points_in_0.005', 'osm_leisure_points_in_0.0075',\n",
       "       'osm_leisure_points_in_0.01', 'osm_offices_points_in_0.001',\n",
       "       'osm_offices_points_in_0.005', 'osm_offices_points_in_0.0075',\n",
       "       'osm_offices_points_in_0.01', 'osm_shops_points_in_0.001',\n",
       "       'osm_shops_points_in_0.005', 'osm_shops_points_in_0.0075',\n",
       "       'osm_shops_points_in_0.01', 'osm_subway_closest_dist',\n",
       "       'osm_train_stop_closest_dist', 'osm_train_stop_points_in_0.005',\n",
       "       'osm_train_stop_points_in_0.0075', 'osm_train_stop_points_in_0.01',\n",
       "       'osm_transport_stop_closest_dist', 'osm_transport_stop_points_in_0.005',\n",
       "       'osm_transport_stop_points_in_0.0075',\n",
       "       'osm_transport_stop_points_in_0.01', 'per_square_meter_price',\n",
       "       'reform_count_of_houses_1000', 'reform_count_of_houses_500',\n",
       "       'reform_house_population_1000', 'reform_house_population_500',\n",
       "       'reform_mean_floor_count_1000', 'reform_mean_floor_count_500',\n",
       "       'reform_mean_year_building_1000', 'reform_mean_year_building_500',\n",
       "       'region', 'total_square', 'street', 'date', 'realty_type',\n",
       "       'price_type'],\n",
       "      dtype='object')"
      ]
     },
     "execution_count": 12,
     "metadata": {},
     "output_type": "execute_result"
    }
   ],
   "source": [
    "df.columns"
   ]
  },
  {
   "cell_type": "code",
   "execution_count": 14,
   "id": "fb95d32f",
   "metadata": {
    "ExecuteTime": {
     "end_time": "2021-09-24T21:13:31.639680Z",
     "start_time": "2021-09-24T21:13:31.508034Z"
    },
    "scrolled": false
   },
   "outputs": [
    {
     "name": "stdout",
     "output_type": "stream",
     "text": [
      "<class 'pandas.core.frame.DataFrame'>\n",
      "RangeIndex: 279792 entries, 0 to 279791\n",
      "Data columns (total 77 columns):\n",
      " #   Column                               Non-Null Count   Dtype  \n",
      "---  ------                               --------------   -----  \n",
      " 0   city                                 279792 non-null  object \n",
      " 1   floor                                103555 non-null  object \n",
      " 2   id                                   279792 non-null  object \n",
      " 3   lat                                  279792 non-null  float64\n",
      " 4   lng                                  279792 non-null  float64\n",
      " 5   osm_amenity_points_in_0.001          279792 non-null  int64  \n",
      " 6   osm_amenity_points_in_0.005          279792 non-null  int64  \n",
      " 7   osm_amenity_points_in_0.0075         279792 non-null  int64  \n",
      " 8   osm_amenity_points_in_0.01           279792 non-null  int64  \n",
      " 9   osm_building_points_in_0.001         279792 non-null  int64  \n",
      " 10  osm_building_points_in_0.005         279792 non-null  int64  \n",
      " 11  osm_building_points_in_0.0075        279792 non-null  int64  \n",
      " 12  osm_building_points_in_0.01          279792 non-null  int64  \n",
      " 13  osm_catering_points_in_0.001         279792 non-null  int64  \n",
      " 14  osm_catering_points_in_0.005         279792 non-null  int64  \n",
      " 15  osm_catering_points_in_0.0075        279792 non-null  int64  \n",
      " 16  osm_catering_points_in_0.01          279792 non-null  int64  \n",
      " 17  osm_city_closest_dist                279792 non-null  float64\n",
      " 18  osm_city_nearest_name                279792 non-null  object \n",
      " 19  osm_city_nearest_population          279737 non-null  float64\n",
      " 20  osm_crossing_closest_dist            279792 non-null  float64\n",
      " 21  osm_crossing_points_in_0.001         279792 non-null  int64  \n",
      " 22  osm_crossing_points_in_0.005         279792 non-null  int64  \n",
      " 23  osm_crossing_points_in_0.0075        279792 non-null  int64  \n",
      " 24  osm_crossing_points_in_0.01          279792 non-null  int64  \n",
      " 25  osm_culture_points_in_0.001          279792 non-null  int64  \n",
      " 26  osm_culture_points_in_0.005          279792 non-null  int64  \n",
      " 27  osm_culture_points_in_0.0075         279792 non-null  int64  \n",
      " 28  osm_culture_points_in_0.01           279792 non-null  int64  \n",
      " 29  osm_finance_points_in_0.001          279792 non-null  int64  \n",
      " 30  osm_finance_points_in_0.005          279792 non-null  int64  \n",
      " 31  osm_finance_points_in_0.0075         279792 non-null  int64  \n",
      " 32  osm_finance_points_in_0.01           279792 non-null  int64  \n",
      " 33  osm_healthcare_points_in_0.005       279792 non-null  int64  \n",
      " 34  osm_healthcare_points_in_0.0075      279792 non-null  int64  \n",
      " 35  osm_healthcare_points_in_0.01        279792 non-null  int64  \n",
      " 36  osm_historic_points_in_0.005         279792 non-null  int64  \n",
      " 37  osm_historic_points_in_0.0075        279792 non-null  int64  \n",
      " 38  osm_historic_points_in_0.01          279792 non-null  int64  \n",
      " 39  osm_hotels_points_in_0.005           279792 non-null  int64  \n",
      " 40  osm_hotels_points_in_0.0075          279792 non-null  int64  \n",
      " 41  osm_hotels_points_in_0.01            279792 non-null  int64  \n",
      " 42  osm_leisure_points_in_0.005          279792 non-null  int64  \n",
      " 43  osm_leisure_points_in_0.0075         279792 non-null  int64  \n",
      " 44  osm_leisure_points_in_0.01           279792 non-null  int64  \n",
      " 45  osm_offices_points_in_0.001          279792 non-null  int64  \n",
      " 46  osm_offices_points_in_0.005          279792 non-null  int64  \n",
      " 47  osm_offices_points_in_0.0075         279792 non-null  int64  \n",
      " 48  osm_offices_points_in_0.01           279792 non-null  int64  \n",
      " 49  osm_shops_points_in_0.001            279792 non-null  int64  \n",
      " 50  osm_shops_points_in_0.005            279792 non-null  int64  \n",
      " 51  osm_shops_points_in_0.0075           279792 non-null  int64  \n",
      " 52  osm_shops_points_in_0.01             279792 non-null  int64  \n",
      " 53  osm_subway_closest_dist              279792 non-null  float64\n",
      " 54  osm_train_stop_closest_dist          279792 non-null  float64\n",
      " 55  osm_train_stop_points_in_0.005       279792 non-null  int64  \n",
      " 56  osm_train_stop_points_in_0.0075      279792 non-null  int64  \n",
      " 57  osm_train_stop_points_in_0.01        279792 non-null  int64  \n",
      " 58  osm_transport_stop_closest_dist      279792 non-null  float64\n",
      " 59  osm_transport_stop_points_in_0.005   279792 non-null  int64  \n",
      " 60  osm_transport_stop_points_in_0.0075  279792 non-null  int64  \n",
      " 61  osm_transport_stop_points_in_0.01    279792 non-null  int64  \n",
      " 62  per_square_meter_price               279792 non-null  float64\n",
      " 63  reform_count_of_houses_1000          279792 non-null  int64  \n",
      " 64  reform_count_of_houses_500           279792 non-null  int64  \n",
      " 65  reform_house_population_1000         265196 non-null  float64\n",
      " 66  reform_house_population_500          252558 non-null  float64\n",
      " 67  reform_mean_floor_count_1000         263084 non-null  float64\n",
      " 68  reform_mean_floor_count_500          249624 non-null  float64\n",
      " 69  reform_mean_year_building_1000       263553 non-null  float64\n",
      " 70  reform_mean_year_building_500        250155 non-null  float64\n",
      " 71  region                               279792 non-null  object \n",
      " 72  total_square                         279792 non-null  float64\n",
      " 73  street                               278186 non-null  object \n",
      " 74  date                                 279792 non-null  object \n",
      " 75  realty_type                          279792 non-null  int64  \n",
      " 76  price_type                           279792 non-null  int64  \n",
      "dtypes: float64(16), int64(54), object(7)\n",
      "memory usage: 164.4+ MB\n"
     ]
    }
   ],
   "source": [
    "df.info()"
   ]
  },
  {
   "cell_type": "code",
   "execution_count": 78,
   "id": "387fd769",
   "metadata": {
    "ExecuteTime": {
     "end_time": "2021-09-25T00:32:37.680272Z",
     "start_time": "2021-09-25T00:32:37.671677Z"
    }
   },
   "outputs": [
    {
     "data": {
      "text/plain": [
       "['city',\n",
       " 'floor',\n",
       " 'id',\n",
       " 'lat',\n",
       " 'osm_city_nearest_name',\n",
       " 'region',\n",
       " 'street',\n",
       " 'date']"
      ]
     },
     "execution_count": 78,
     "metadata": {},
     "output_type": "execute_result"
    }
   ],
   "source": [
    "object_col = ['city', 'floor', 'id', 'lat', 'osm_city_nearest_name', 'region', 'street', 'date']\n",
    "object_col"
   ]
  },
  {
   "cell_type": "code",
   "execution_count": 80,
   "id": "766b8519",
   "metadata": {
    "ExecuteTime": {
     "end_time": "2021-09-25T00:33:44.551132Z",
     "start_time": "2021-09-25T00:33:44.086791Z"
    }
   },
   "outputs": [],
   "source": [
    "for col in object_col:\n",
    "    df[col] = df[col].astype(str)"
   ]
  },
  {
   "cell_type": "code",
   "execution_count": 81,
   "id": "8830ad19",
   "metadata": {
    "ExecuteTime": {
     "end_time": "2021-09-25T00:33:56.621513Z",
     "start_time": "2021-09-25T00:33:56.453963Z"
    }
   },
   "outputs": [
    {
     "name": "stdout",
     "output_type": "stream",
     "text": [
      "<class 'pandas.core.frame.DataFrame'>\n",
      "RangeIndex: 279792 entries, 0 to 279791\n",
      "Data columns (total 77 columns):\n",
      " #   Column                               Non-Null Count   Dtype  \n",
      "---  ------                               --------------   -----  \n",
      " 0   city                                 279792 non-null  object \n",
      " 1   floor                                279792 non-null  object \n",
      " 2   id                                   279792 non-null  object \n",
      " 3   lat                                  279792 non-null  object \n",
      " 4   lng                                  279792 non-null  float64\n",
      " 5   osm_amenity_points_in_0.001          279792 non-null  int64  \n",
      " 6   osm_amenity_points_in_0.005          279792 non-null  int64  \n",
      " 7   osm_amenity_points_in_0.0075         279792 non-null  int64  \n",
      " 8   osm_amenity_points_in_0.01           279792 non-null  int64  \n",
      " 9   osm_building_points_in_0.001         279792 non-null  int64  \n",
      " 10  osm_building_points_in_0.005         279792 non-null  int64  \n",
      " 11  osm_building_points_in_0.0075        279792 non-null  int64  \n",
      " 12  osm_building_points_in_0.01          279792 non-null  int64  \n",
      " 13  osm_catering_points_in_0.001         279792 non-null  int64  \n",
      " 14  osm_catering_points_in_0.005         279792 non-null  int64  \n",
      " 15  osm_catering_points_in_0.0075        279792 non-null  int64  \n",
      " 16  osm_catering_points_in_0.01          279792 non-null  int64  \n",
      " 17  osm_city_closest_dist                279792 non-null  float64\n",
      " 18  osm_city_nearest_name                279792 non-null  object \n",
      " 19  osm_city_nearest_population          279737 non-null  float64\n",
      " 20  osm_crossing_closest_dist            279792 non-null  float64\n",
      " 21  osm_crossing_points_in_0.001         279792 non-null  int64  \n",
      " 22  osm_crossing_points_in_0.005         279792 non-null  int64  \n",
      " 23  osm_crossing_points_in_0.0075        279792 non-null  int64  \n",
      " 24  osm_crossing_points_in_0.01          279792 non-null  int64  \n",
      " 25  osm_culture_points_in_0.001          279792 non-null  int64  \n",
      " 26  osm_culture_points_in_0.005          279792 non-null  int64  \n",
      " 27  osm_culture_points_in_0.0075         279792 non-null  int64  \n",
      " 28  osm_culture_points_in_0.01           279792 non-null  int64  \n",
      " 29  osm_finance_points_in_0.001          279792 non-null  int64  \n",
      " 30  osm_finance_points_in_0.005          279792 non-null  int64  \n",
      " 31  osm_finance_points_in_0.0075         279792 non-null  int64  \n",
      " 32  osm_finance_points_in_0.01           279792 non-null  int64  \n",
      " 33  osm_healthcare_points_in_0.005       279792 non-null  int64  \n",
      " 34  osm_healthcare_points_in_0.0075      279792 non-null  int64  \n",
      " 35  osm_healthcare_points_in_0.01        279792 non-null  int64  \n",
      " 36  osm_historic_points_in_0.005         279792 non-null  int64  \n",
      " 37  osm_historic_points_in_0.0075        279792 non-null  int64  \n",
      " 38  osm_historic_points_in_0.01          279792 non-null  int64  \n",
      " 39  osm_hotels_points_in_0.005           279792 non-null  int64  \n",
      " 40  osm_hotels_points_in_0.0075          279792 non-null  int64  \n",
      " 41  osm_hotels_points_in_0.01            279792 non-null  int64  \n",
      " 42  osm_leisure_points_in_0.005          279792 non-null  int64  \n",
      " 43  osm_leisure_points_in_0.0075         279792 non-null  int64  \n",
      " 44  osm_leisure_points_in_0.01           279792 non-null  int64  \n",
      " 45  osm_offices_points_in_0.001          279792 non-null  int64  \n",
      " 46  osm_offices_points_in_0.005          279792 non-null  int64  \n",
      " 47  osm_offices_points_in_0.0075         279792 non-null  int64  \n",
      " 48  osm_offices_points_in_0.01           279792 non-null  int64  \n",
      " 49  osm_shops_points_in_0.001            279792 non-null  int64  \n",
      " 50  osm_shops_points_in_0.005            279792 non-null  int64  \n",
      " 51  osm_shops_points_in_0.0075           279792 non-null  int64  \n",
      " 52  osm_shops_points_in_0.01             279792 non-null  int64  \n",
      " 53  osm_subway_closest_dist              279792 non-null  float64\n",
      " 54  osm_train_stop_closest_dist          279792 non-null  float64\n",
      " 55  osm_train_stop_points_in_0.005       279792 non-null  int64  \n",
      " 56  osm_train_stop_points_in_0.0075      279792 non-null  int64  \n",
      " 57  osm_train_stop_points_in_0.01        279792 non-null  int64  \n",
      " 58  osm_transport_stop_closest_dist      279792 non-null  float64\n",
      " 59  osm_transport_stop_points_in_0.005   279792 non-null  int64  \n",
      " 60  osm_transport_stop_points_in_0.0075  279792 non-null  int64  \n",
      " 61  osm_transport_stop_points_in_0.01    279792 non-null  int64  \n",
      " 62  per_square_meter_price               279792 non-null  float64\n",
      " 63  reform_count_of_houses_1000          279792 non-null  int64  \n",
      " 64  reform_count_of_houses_500           279792 non-null  int64  \n",
      " 65  reform_house_population_1000         265196 non-null  float64\n",
      " 66  reform_house_population_500          252558 non-null  float64\n",
      " 67  reform_mean_floor_count_1000         263084 non-null  float64\n",
      " 68  reform_mean_floor_count_500          249624 non-null  float64\n",
      " 69  reform_mean_year_building_1000       263553 non-null  float64\n",
      " 70  reform_mean_year_building_500        250155 non-null  float64\n",
      " 71  region                               279792 non-null  object \n",
      " 72  total_square                         279792 non-null  float64\n",
      " 73  street                               279792 non-null  object \n",
      " 74  date                                 279792 non-null  object \n",
      " 75  realty_type                          279792 non-null  int64  \n",
      " 76  price_type                           279792 non-null  int64  \n",
      "dtypes: float64(15), int64(54), object(8)\n",
      "memory usage: 164.4+ MB\n"
     ]
    }
   ],
   "source": [
    "df.info()"
   ]
  },
  {
   "cell_type": "markdown",
   "id": "8e5baeee",
   "metadata": {},
   "source": [
    "## Уникальные значения"
   ]
  },
  {
   "cell_type": "code",
   "execution_count": 85,
   "id": "a22f27b2",
   "metadata": {
    "ExecuteTime": {
     "end_time": "2021-09-25T00:52:30.398892Z",
     "start_time": "2021-09-25T00:52:28.590588Z"
    },
    "scrolled": false
   },
   "outputs": [
    {
     "name": "stdout",
     "output_type": "stream",
     "text": [
      "Количество уникальных значений параметра:  city  =  4948\n",
      "Уникальные значения:  ['Пермь' 'Шатура' 'Ярославль' 'Новокузнецк' 'Москва' 'Самара' 'Лаишево'\n",
      " 'Саратов' 'Краснодар' 'Екатеринбург'] \n",
      " ==================================================\n",
      "Количество уникальных значений параметра:  floor  =  169\n",
      "Уникальные значения:  ['nan' '3.0' '4.0' '-1.0' '1.0' '14.0' '2.0' '8.0' '-2.0' '6.0'] \n",
      " ==================================================\n",
      "Количество уникальных значений параметра:  id  =  279792\n",
      "Уникальные значения:  ['COL_0' 'COL_1' 'COL_2' 'COL_3' 'COL_4' 'COL_5' 'COL_6' 'COL_7' 'COL_8'\n",
      " 'COL_9'] \n",
      " ==================================================\n",
      "Количество уникальных значений параметра:  lat  =  129554\n",
      "Уникальные значения:  ['57.998206999999994' '55.574284' '57.61914' '53.897082999999995'\n",
      " '55.80259' '53.2579' '55.41235699999999' '51.521415999999995' '45.03328'\n",
      " '56.833659999999995'] \n",
      " ==================================================\n",
      "Количество уникальных значений параметра:  lng  =  131884\n",
      "Уникальные значения:  [56.292797 39.543835 39.850525 87.108604 37.48711  50.203632 49.561718\n",
      " 46.016453 38.97641  60.635742] \n",
      " ==================================================\n",
      "Количество уникальных значений параметра:  osm_amenity_points_in_0.001  =  46\n",
      "Уникальные значения:  [ 4  3  1  0  5 10  2  7  6 19] \n",
      " ==================================================\n",
      "Количество уникальных значений параметра:  osm_amenity_points_in_0.005  =  412\n",
      "Уникальные значения:  [19 24 30  0 23 18 38 92 66 12] \n",
      " ==================================================\n",
      "Количество уникальных значений параметра:  osm_amenity_points_in_0.0075  =  804\n",
      "Уникальные значения:  [ 35  37  67   5  64  38   0 117 256 138] \n",
      " ==================================================\n",
      "Количество уникальных значений параметра:  osm_amenity_points_in_0.01  =  1273\n",
      "Уникальные значения:  [ 52  59 128  21 153  50   0 219 376 249] \n",
      " ==================================================\n",
      "Количество уникальных значений параметра:  osm_building_points_in_0.001  =  25\n",
      "Уникальные значения:  [ 0  2  3  1  9  6  5 10 16  4 13  7 14 11  8 27 12 18 19 23 30 17 21 20\n",
      " 15] \n",
      " ==================================================\n",
      "Количество уникальных значений параметра:  osm_building_points_in_0.005  =  195\n",
      "Уникальные значения:  [ 0  1  4 20  8  2  7 12 27  3] \n",
      " ==================================================\n",
      "Количество уникальных значений параметра:  osm_building_points_in_0.0075  =  336\n",
      "Уникальные значения:  [ 0  1 13  2 29 14  4 10  6  8] \n",
      " ==================================================\n",
      "Количество уникальных значений параметра:  osm_building_points_in_0.01  =  469\n",
      "Уникальные значения:  [ 0  1 26  4 37  3 23  2 21 13] \n",
      " ==================================================\n",
      "Количество уникальных значений параметра:  osm_catering_points_in_0.001  =  24\n",
      "Уникальные значения:  [ 0  1  2  4  5  3  6 10 12  8  7  9 11 17 13 19 14 18 21 15 16 22 20 23] \n",
      " ==================================================\n",
      "Количество уникальных значений параметра:  osm_catering_points_in_0.005  =  165\n",
      "Уникальные значения:  [ 2  3  0  8  5 40 10  1 13  4] \n",
      " ==================================================\n",
      "Количество уникальных значений параметра:  osm_catering_points_in_0.0075  =  309\n",
      "Уникальные значения:  [ 4  2  6  1 14  3  0 11 95 22] \n",
      " ==================================================\n",
      "Количество уникальных значений параметра:  osm_catering_points_in_0.01  =  498\n",
      "Уникальные значения:  [  6  11   4  26   0  30 125  41   5   1] \n",
      " ==================================================\n",
      "Количество уникальных значений параметра:  osm_city_closest_dist  =  143190\n",
      "Уникальные значения:  [ 3.29346981 43.95098861  2.67629331 15.61856335  9.99532477  8.8936006\n",
      " 49.49376156  1.58336051  0.21992851  1.77901186] \n",
      " ==================================================\n",
      "Количество уникальных значений параметра:  osm_city_nearest_name  =  170\n",
      "Уникальные значения:  ['Пермь' 'Орехово-Зуево' 'Ярославль' 'Новокузнецк' 'Химки' 'Самара'\n",
      " 'Казань' 'Саратов' 'Краснодар' 'Екатеринбург'] \n",
      " ==================================================\n",
      "Количество уникальных значений параметра:  osm_city_nearest_population  =  170\n",
      "Уникальные значения:  [1055397.  120184.  603961.  552105.  232066. 1156644. 1251969.  842097.\n",
      " 1405000. 1468833.] \n",
      " ==================================================\n",
      "Количество уникальных значений параметра:  osm_crossing_closest_dist  =  143191\n",
      "Уникальные значения:  [0.0277322  0.08944081 0.2009951  0.86140039 0.23674424 0.18763925\n",
      " 3.66890387 0.15327575 0.11100965 0.05604279] \n",
      " ==================================================\n",
      "Количество уникальных значений параметра:  osm_crossing_points_in_0.001  =  17\n",
      "Уникальные значения:  [ 3  0  2  4  1  5  8  7 11  6 13  9 10 12 14 19 16] \n",
      " ==================================================\n",
      "Количество уникальных значений параметра:  osm_crossing_points_in_0.005  =  108\n",
      "Уникальные значения:  [ 6 31 15  0 14 16 43  7 10  2] \n",
      " ==================================================\n",
      "Количество уникальных значений параметра:  osm_crossing_points_in_0.0075  =  191\n",
      "Уникальные значения:  [ 17  50  29   0  40  31  20 105  14  21] \n",
      " ==================================================\n",
      "Количество уникальных значений параметра:  osm_crossing_points_in_0.01  =  268\n",
      "Уникальные значения:  [ 34  57  53   5  78  54   0  48 177  35] \n",
      " ==================================================\n",
      "Количество уникальных значений параметра:  osm_culture_points_in_0.001  =  16\n",
      "Уникальные значения:  [ 0  1  2  6  3  5 12  7  4  9  8 11 16 13 20 15] \n",
      " ==================================================\n",
      "Количество уникальных значений параметра:  osm_culture_points_in_0.005  =  111\n",
      "Уникальные значения:  [ 0  1  6 27  7  2  5  8 11 17] \n",
      " ==================================================\n",
      "Количество уникальных значений параметра:  osm_culture_points_in_0.0075  =  159\n",
      "Уникальные значения:  [ 1  2  0 14 40  7  9  5  8  6] \n",
      " ==================================================\n",
      "Количество уникальных значений параметра:  osm_culture_points_in_0.01  =  216\n",
      "Уникальные значения:  [ 1  3  2  0 24  6 47  9 16  5] \n",
      " ==================================================\n",
      "Количество уникальных значений параметра:  osm_finance_points_in_0.001  =  7\n",
      "Уникальные значения:  [0 1 2 3 4 6 5] \n",
      " ==================================================\n",
      "Количество уникальных значений параметра:  osm_finance_points_in_0.005  =  29\n",
      "Уникальные значения:  [ 0  3 10  7  1  5  2  6 15  8 28  4 11 17  9 12 14 13 21 19 25 18 27 22\n",
      " 16 20 23 24 26] \n",
      " ==================================================\n",
      "Количество уникальных значений параметра:  osm_finance_points_in_0.0075  =  42\n",
      "Уникальные значения:  [ 1  5  0  3  8 17 10  2 18 29] \n",
      " ==================================================\n",
      "Количество уникальных значений параметра:  osm_finance_points_in_0.01  =  61\n",
      "Уникальные значения:  [ 2  9  1  0 18 27 12  3 13 16] \n",
      " ==================================================\n",
      "Количество уникальных значений параметра:  osm_healthcare_points_in_0.005  =  31\n",
      "Уникальные значения:  [ 2  1  0  3  5  8  4  6 15 19] \n",
      " ==================================================\n",
      "Количество уникальных значений параметра:  osm_healthcare_points_in_0.0075  =  57\n",
      "Уникальные значения:  [ 3  1  0  7  9  5  2  4 15 11] \n",
      " ==================================================\n",
      "Количество уникальных значений параметра:  osm_healthcare_points_in_0.01  =  78\n",
      "Уникальные значения:  [ 4  3 14  0 17  7  1  6  5 35] \n",
      " ==================================================\n",
      "Количество уникальных значений параметра:  osm_historic_points_in_0.005  =  54\n",
      "Уникальные значения:  [ 0  2  1  3  7  4  5 24 15  8] \n",
      " ==================================================\n",
      "Количество уникальных значений параметра:  osm_historic_points_in_0.0075  =  89\n",
      "Уникальные значения:  [ 0  4  2  1  3  7  9  6 49 30] \n",
      " ==================================================\n",
      "Количество уникальных значений параметра:  osm_historic_points_in_0.01  =  129\n",
      "Уникальные значения:  [ 1  6  0  2  4  8  3  5  7 14] \n",
      " ==================================================\n",
      "Количество уникальных значений параметра:  osm_hotels_points_in_0.005  =  67\n",
      "Уникальные значения:  [ 0  2  1  3  4 21 20  6  8 14] \n",
      " ==================================================\n",
      "Количество уникальных значений параметра:  osm_hotels_points_in_0.0075  =  109\n",
      "Уникальные значения:  [ 0  2  1  5  6  4  3 42 29 15] \n",
      " ==================================================\n",
      "Количество уникальных значений параметра:  osm_hotels_points_in_0.01  =  158\n",
      "Уникальные значения:  [ 0  2  1  3  9  7  4 85 40 23] \n",
      " ==================================================\n",
      "Количество уникальных значений параметра:  osm_leisure_points_in_0.005  =  34\n",
      "Уникальные значения:  [ 0  1  2  3  6  4  5  9  7 11] \n",
      " ==================================================\n",
      "Количество уникальных значений параметра:  osm_leisure_points_in_0.0075  =  59\n",
      "Уникальные значения:  [ 1  3  0  4 10  8  2  5 11  7] \n",
      " ==================================================\n",
      "Количество уникальных значений параметра:  osm_leisure_points_in_0.01  =  85\n",
      "Уникальные значения:  [ 2  6  1  9 12  0 14  7  4  3] \n",
      " ==================================================\n",
      "Количество уникальных значений параметра:  osm_offices_points_in_0.001  =  13\n",
      "Уникальные значения:  [ 0  1  2  4  3  7  5  8  9  6 12 11 17] \n",
      " ==================================================\n",
      "Количество уникальных значений параметра:  osm_offices_points_in_0.005  =  63\n",
      "Уникальные значения:  [ 1  0  8  2  4  3 24 12  6 22] \n",
      " ==================================================\n",
      "Количество уникальных значений параметра:  osm_offices_points_in_0.0075  =  118\n",
      "Уникальные значения:  [2 6 0 8 1 5 9 7 3 4] \n",
      " ==================================================\n",
      "Количество уникальных значений параметра:  osm_offices_points_in_0.01  =  178\n",
      "Уникальные значения:  [ 4  3  9  0 12  1 15 10 14  5] \n",
      " ==================================================\n",
      "Количество уникальных значений параметра:  osm_shops_points_in_0.001  =  37\n",
      "Уникальные значения:  [ 4  1  0  3  8  2  6  5 15  7] \n",
      " ==================================================\n",
      "Количество уникальных значений параметра:  osm_shops_points_in_0.005  =  272\n",
      "Уникальные значения:  [11 12 16  0  8  7 20 33 49 10] \n",
      " ==================================================\n",
      "Количество уникальных значений параметра:  osm_shops_points_in_0.0075  =  484\n",
      "Уникальные значения:  [ 20  37   4  33  17   0  77 130  86  24] \n",
      " ==================================================\n",
      "Количество уникальных значений параметра:  osm_shops_points_in_0.01  =  745\n",
      "Уникальные значения:  [ 28  29  80  11  89  25   0 134 185 148] \n",
      " ==================================================\n",
      "Количество уникальных значений параметра:  osm_subway_closest_dist  =  143140\n",
      "Уникальные значения:  [269.02498588 102.45545149 243.36193681 295.63350191   1.11042927\n",
      "   6.33965384  43.1717765  358.56971696 334.80279162   2.42247192] \n",
      " ==================================================\n"
     ]
    },
    {
     "name": "stdout",
     "output_type": "stream",
     "text": [
      "Количество уникальных значений параметра:  osm_train_stop_closest_dist  =  143190\n",
      "Уникальные значения:  [ 3.36838535  1.47659961  1.45512728  9.40085459  1.23550284  6.89039798\n",
      " 33.87238435  1.84115595  1.92773128  0.94870196] \n",
      " ==================================================\n",
      "Количество уникальных значений параметра:  osm_train_stop_points_in_0.005  =  19\n",
      "Уникальные значения:  [ 0  2  1  3  4  5  7  6  9  8 15 29 12 10 11 20 26 13 16] \n",
      " ==================================================\n",
      "Количество уникальных значений параметра:  osm_train_stop_points_in_0.0075  =  24\n",
      "Уникальные значения:  [ 0  2  1  3  4  8  6  5  9 12  7 11 10 13 25 31 20 22 16 17 19 14 15 29] \n",
      " ==================================================\n",
      "Количество уникальных значений параметра:  osm_train_stop_points_in_0.01  =  30\n",
      "Уникальные значения:  [ 0  2  3  4  6  1  5  8  9  7 13 23 12 18 26 10 11 17 31 20 19 15 14 16\n",
      " 27 22 24 29 21 25] \n",
      " ==================================================\n",
      "Количество уникальных значений параметра:  osm_transport_stop_closest_dist  =  143191\n",
      "Уникальные значения:  [0.002864   0.15466069 0.11827486 1.03652258 0.2350315  0.36012979\n",
      " 0.84297868 0.16800736 0.27114528 0.07790109] \n",
      " ==================================================\n",
      "Количество уникальных значений параметра:  osm_transport_stop_points_in_0.005  =  51\n",
      "Уникальные значения:  [ 4  9  0 10  3 13  6  2  5  7] \n",
      " ==================================================\n",
      "Количество уникальных значений параметра:  osm_transport_stop_points_in_0.0075  =  74\n",
      "Уникальные значения:  [13 10  0 32  9 21 23  3  5  7] \n",
      " ==================================================\n",
      "Количество уникальных значений параметра:  osm_transport_stop_points_in_0.01  =  107\n",
      "Уникальные значения:  [21 11  3 62 14  0 30 51 35 25] \n",
      " ==================================================\n",
      "Количество уникальных значений параметра:  per_square_meter_price  =  144232\n",
      "Уникальные значения:  [139937.5         60410.71428571  45164.76126429  28805.26315789\n",
      "  13222.59136213  60198.05194805  19892.30769231  26072.16494845\n",
      "  61455.88235294  52607.14285714] \n",
      " ==================================================\n",
      "Количество уникальных значений параметра:  reform_count_of_houses_1000  =  699\n",
      "Уникальные значения:  [136 146 105  75 144  83   7 207 559 154] \n",
      " ==================================================\n",
      "Количество уникальных значений параметра:  reform_count_of_houses_500  =  275\n",
      "Уникальные значения:  [ 49  37  27   2  38  22   4  59 163  44] \n",
      " ==================================================\n",
      "Количество уникальных значений параметра:  reform_house_population_1000  =  6207\n",
      "Уникальные значения:  [2503. 1336. 1883. 1801. 3090. 1958.   32. 3219. 1979. 3096.] \n",
      " ==================================================\n",
      "Количество уникальных значений параметра:  reform_house_population_500  =  2367\n",
      "Уникальные значения:  [765. 514. 573.  54. 619. 451.  28. 882. 419. 781.] \n",
      " ==================================================\n",
      "Количество уникальных значений параметра:  reform_mean_floor_count_1000  =  49018\n",
      "Уникальные значения:  [ 5.76296296  2.8943662   6.14141414  8.58108108  7.26388889 11.64473684\n",
      "  2.5         6.11801242  1.85740741  5.92567568] \n",
      " ==================================================\n",
      "Количество уникальных значений параметра:  reform_mean_floor_count_500  =  17122\n",
      "Уникальные значения:  [ 5.53061224  3.52777778  7.22222222  9.          5.68421053 15.82352941\n",
      "  2.75        5.93478261  1.72435897  6.125     ] \n",
      " ==================================================\n",
      "Количество уникальных значений параметра:  reform_mean_year_building_1000  =  76045\n",
      "Уникальные значения:  [1964.11851852 1952.32167832 1968.15       1992.71621622 1963.22916667\n",
      " 1875.81927711 2005.5        1961.30588235 1925.48345588 1967.29530201] \n",
      " ==================================================\n",
      "Количество уникальных значений параметра:  reform_mean_year_building_500  =  43144\n",
      "Уникальные значения:  [1960.95918367 1957.22222222 1973.37037037 2014.         1960.5\n",
      " 1550.81818182 2013.75       1961.3125     1921.84076433 1966.2       ] \n",
      " ==================================================\n",
      "Количество уникальных значений параметра:  region  =  49\n",
      "Уникальные значения:  ['Пермский край' 'Московская область' 'Ярославская область'\n",
      " 'Кемеровская область' 'Москва' 'Самарская область' 'Татарстан'\n",
      " 'Саратовская область' 'Краснодарский край' 'Свердловская область'] \n",
      " ==================================================\n",
      "Количество уникальных значений параметра:  total_square  =  20844\n",
      "Уникальные значения:  [ 32.  280.  297.4 190.   60.2 308.  130.  291.  680.   28. ] \n",
      " ==================================================\n",
      "Количество уникальных значений параметра:  street  =  28842\n",
      "Уникальные значения:  ['S27289' 'S17052' 'S16913' 'S10148' 'S1338' 'S24380' 'S14468' 'S8394'\n",
      " 'S33225' 'S5897'] \n",
      " ==================================================\n",
      "Количество уникальных значений параметра:  date  =  34\n",
      "Уникальные значения:  ['2020-01-05' '2020-01-12' '2020-01-19' '2020-01-26' '2020-02-02'\n",
      " '2020-02-09' '2020-02-16' '2020-02-23' '2020-03-01' '2020-03-08'] \n",
      " ==================================================\n",
      "Количество уникальных значений параметра:  realty_type  =  3\n",
      "Уникальные значения:  [ 10 110 100] \n",
      " ==================================================\n",
      "Количество уникальных значений параметра:  price_type  =  2\n",
      "Уникальные значения:  [0 1] \n",
      " ==================================================\n"
     ]
    }
   ],
   "source": [
    "for param in df.columns:\n",
    "    print('Количество уникальных значений параметра: ', param, ' = ', len(df[param].unique()))\n",
    "    print('Уникальные значения: ', \n",
    "          df[param].unique()[:10] if len(df[param].unique()) > 30 else df[param].unique(),\n",
    "          '\\n', '='*50)"
   ]
  },
  {
   "cell_type": "code",
   "execution_count": 88,
   "id": "c2812136",
   "metadata": {
    "ExecuteTime": {
     "end_time": "2021-09-25T00:54:45.672468Z",
     "start_time": "2021-09-25T00:54:43.801063Z"
    }
   },
   "outputs": [
    {
     "data": {
      "image/png": "[encoded data removed]",
      "text/plain": [
       "<Figure size 432x288 with 1 Axes>"
      ]
     },
     "metadata": {},
     "output_type": "display_data"
    }
   ],
   "source": [
    "labels = df['floor'].value_counts().index\n",
    "sizes = df['floor'].value_counts()\n",
    "plt.style.use('seaborn-pastel') #  available styles: print(plt.style.available)\n",
    "fig1, ax1 = plt.subplots()\n",
    "ax1.pie(sizes, labels=labels, autopct='%1.0f%%', startangle=90, counterclock=False, textprops={'fontsize': 12})\n",
    "centre_circle = plt.Circle((0,0),0.80,fc='white')\n",
    "fig = plt.gcf()\n",
    "fig.gca().add_artist(centre_circle)\n",
    "# Equal aspect ratio ensures that pie is drawn as a circle\n",
    "ax1.axis('equal')  \n",
    "plt.tight_layout()\n",
    "plt.show()"
   ]
  },
  {
   "cell_type": "markdown",
   "id": "17e5c83f",
   "metadata": {},
   "source": [
    "**наны floor заполнить 1-м этажом**"
   ]
  },
  {
   "cell_type": "code",
   "execution_count": 94,
   "id": "920d9005",
   "metadata": {
    "ExecuteTime": {
     "end_time": "2021-09-25T00:59:06.846985Z",
     "start_time": "2021-09-25T00:59:04.966482Z"
    },
    "scrolled": false
   },
   "outputs": [
    {
     "data": {
      "image/png": "[encoded data removed]",
      "text/plain": [
       "<Figure size 1008x2520 with 1 Axes>"
      ]
     },
     "metadata": {
      "needs_background": "light"
     },
     "output_type": "display_data"
    }
   ],
   "source": [
    "f, ax = plt.subplots(figsize=(14, 35))\n",
    "sns.countplot(y=\"floor\", data=df, color=\"c\");"
   ]
  },
  {
   "cell_type": "code",
   "execution_count": null,
   "id": "9858705d",
   "metadata": {},
   "outputs": [],
   "source": [
    "for value in df['floor'].unique():\n",
    "    print()"
   ]
  },
  {
   "cell_type": "code",
   "execution_count": 105,
   "id": "32f6f399",
   "metadata": {
    "ExecuteTime": {
     "end_time": "2021-09-25T01:03:22.894542Z",
     "start_time": "2021-09-25T01:03:22.854642Z"
    }
   },
   "outputs": [
    {
     "data": {
      "text/plain": [
       "nan       176237\n",
       "1.0        72871\n",
       "2.0         8102\n",
       "-1.0        8065\n",
       "3.0         3682\n",
       "4.0         2284\n",
       "5.0         1436\n",
       "0.0          933\n",
       "-2.0         787\n",
       "6.0          692\n",
       "7.0          683\n",
       "1            442\n",
       "8.0          350\n",
       "9.0          309\n",
       "10.0         249\n",
       "11.0         184\n",
       "12.0         138\n",
       "15.0         115\n",
       "17.0         103\n",
       "20.0         101\n",
       "22.0          98\n",
       "13.0          97\n",
       "16.0          86\n",
       "14.0          85\n",
       "19.0          74\n",
       "2             74\n",
       "38.0          61\n",
       "24.0          60\n",
       "18.0          55\n",
       "подвал        54\n",
       "47.0          54\n",
       "21.0          52\n",
       "3             49\n",
       "30.0          47\n",
       "53.0          42\n",
       "цоколь        41\n",
       "-3.0          39\n",
       "40.0          34\n",
       "58.0          33\n",
       "23.0          33\n",
       "64.0          32\n",
       "45.0          32\n",
       "60.0          30\n",
       "42.0          30\n",
       "65.0          29\n",
       "5             27\n",
       "25.0          25\n",
       "66.0          25\n",
       "44.0          24\n",
       "27.0          24\n",
       "Name: floor, dtype: int64"
      ]
     },
     "execution_count": 105,
     "metadata": {},
     "output_type": "execute_result"
    }
   ],
   "source": [
    "df['floor'].value_counts()[:50]"
   ]
  },
  {
   "cell_type": "markdown",
   "id": "4998acad",
   "metadata": {},
   "source": [
    "## Пропущенные значения"
   ]
  },
  {
   "cell_type": "code",
   "execution_count": 52,
   "id": "61b1fdf8",
   "metadata": {
    "ExecuteTime": {
     "end_time": "2021-09-24T21:32:46.265110Z",
     "start_time": "2021-09-24T21:32:46.133159Z"
    }
   },
   "outputs": [
    {
     "name": "stdout",
     "output_type": "stream",
     "text": [
      "floor 62.99 %\n",
      "osm_city_nearest_population 0.02 %\n",
      "reform_house_population_1000 5.22 %\n",
      "reform_house_population_500 9.73 %\n",
      "reform_mean_floor_count_1000 5.97 %\n",
      "reform_mean_floor_count_500 10.78 %\n",
      "reform_mean_year_building_1000 5.8 %\n",
      "reform_mean_year_building_500 10.59 %\n",
      "street 0.57 %\n"
     ]
    },
    {
     "data": {
      "text/plain": [
       "['floor',\n",
       " 'osm_city_nearest_population',\n",
       " 'reform_house_population_1000',\n",
       " 'reform_house_population_500',\n",
       " 'reform_mean_floor_count_1000',\n",
       " 'reform_mean_floor_count_500',\n",
       " 'reform_mean_year_building_1000',\n",
       " 'reform_mean_year_building_500',\n",
       " 'street']"
      ]
     },
     "execution_count": 52,
     "metadata": {},
     "output_type": "execute_result"
    }
   ],
   "source": [
    "col_with_nan = []\n",
    "ROW_NUM = df.shape[0]\n",
    "\n",
    "for col in df.columns:\n",
    "    if df[col].isna().sum() != 0:\n",
    "        print(col, round(df[col].isna().sum() / ROW_NUM * 100, 2), '%')\n",
    "        col_with_nan.append(col)\n",
    "\n",
    "col_with_nan"
   ]
  },
  {
   "cell_type": "code",
   "execution_count": 53,
   "id": "a8bf7ed9",
   "metadata": {
    "ExecuteTime": {
     "end_time": "2021-09-24T21:33:05.914238Z",
     "start_time": "2021-09-24T21:33:05.203806Z"
    }
   },
   "outputs": [
    {
     "data": {
      "image/png": "[encoded data removed]",
      "text/plain": [
       "<Figure size 1800x720 with 2 Axes>"
      ]
     },
     "metadata": {
      "needs_background": "light"
     },
     "output_type": "display_data"
    }
   ],
   "source": [
    "msno.matrix(df[col_with_nan]);"
   ]
  },
  {
   "cell_type": "markdown",
   "id": "5d90a8b0",
   "metadata": {},
   "source": [
    "- osm_amenity_points_in_0.001 and osm_offices_points_in_0.005 have similar distributions\tSimilar Distribution\n",
    "- osm_amenity_points_in_0.0075 and osm_shops_points_in_0.01 have similar distributions\tSimilar Distribution\n",
    "- osm_building_points_in_0.001 and osm_culture_points_in_0.001 have similar distributions\tSimilar Distribution\n",
    "- osm_building_points_in_0.001 and osm_train_stop_points_in_0.005 have similar distributions\tSimilar Distribution\n",
    "- osm_building_points_in_0.005 and osm_catering_points_in_0.001 have similar distributions\tSimilar Distribution\n",
    "- osm_building_points_in_0.0075 and osm_culture_points_in_0.005 have similar distributions\tSimilar Distribution\n",
    "- osm_building_points_in_0.01 and osm_historic_points_in_0.005 have similar distributions\tSimilar Distribution\n",
    "- osm_building_points_in_0.01 and osm_hotels_points_in_0.0075 have similar distributions\tSimilar Distribution\n",
    "- osm_culture_points_in_0.001 and osm_train_stop_points_in_0.005 have similar distributions\tSimilar Distribution\n",
    "- osm_finance_points_in_0.005 and osm_shops_points_in_0.001 have similar distributions\tSimilar Distribution\n",
    "- osm_finance_points_in_0.01 and osm_offices_points_in_0.0075 have similar distributions\tSimilar Distribution\n",
    "- osm_healthcare_points_in_0.005 and osm_leisure_points_in_0.005 have similar distributions\tSimilar Distribution\n",
    "- osm_healthcare_points_in_0.0075 and osm_leisure_points_in_0.0075 have similar distributions\tSimilar Distribution\n",
    "- osm_historic_points_in_0.005 and osm_hotels_points_in_0.0075 have similar distributions\tSimilar Distribution\n",
    "- osm_historic_points_in_0.0075 and osm_offices_points_in_0.005 have similar distributions\tSimilar Distribution\n",
    "- floor has 176237 (62.99%) missing values\tMissing\n",
    "- reform_house_population_1000 has 14596 (5.22%) missing values\tMissing\n",
    "- reform_house_population_500 has 27234 (9.73%) missing values\tMissing\n",
    "- reform_mean_floor_count_1000 has 16708 (5.97%) missing values\tMissing\n",
    "- reform_mean_floor_count_500 has 30168 (10.78%) missing values\tMissing\n",
    "- reform_mean_year_building_1000 has 16239 (5.8%) missing values\tMissing\n",
    "- reform_mean_year_building_500 has 29637 (10.59%) missing values\tMissing\n",
    "- ...\n",
    "- city has a high cardinality: 4948 distinct values\tHigh Cardinality\n",
    "- floor has a high cardinality: 168 distinct values\tHigh Cardinality\n",
    "- id has a high cardinality: 279792 distinct values\tHigh Cardinality\n",
    "- osm_city_nearest_name has a high cardinality: 170 distinct values\tHigh Cardinality\n",
    "- street has a high cardinality: 28841 distinct values\tHigh Cardinality\n",
    "- osm_finance_points_in_0.001 has constant length 1\tConstant Length\n",
    "- date has constant length 10\tConstant Length\n",
    "- price_type has constant length 1\tConstant Length\n",
    "- id has all distinct values\tUnique\n",
    "- osm_amenity_points_in_0.001 has 108604 (38.82%) zeros\tZeros\n",
    "- osm_amenity_points_in_0.005 has 17440 (6.23%) zeros\tZeros\n",
    "- osm_building_points_in_0.001 has 273479 (97.74%) zeros\tZeros\n",
    "- osm_building_points_in_0.005 has 220224 (78.71%) zeros\tZeros\n",
    "- osm_building_points_in_0.0075 has 188937 (67.53%) zeros\tZeros\n",
    "- osm_building_points_in_0.01 has 164807 (58.9%) zeros\tZeros\n",
    "- osm_catering_points_in_0.001 has 211258 (75.51%) zeros\tZeros\n",
    "- osm_catering_points_in_0.005 has 78425 (28.03%) zeros\tZeros\n",
    "- osm_catering_points_in_0.0075 has 51340 (18.35%) zeros\tZeros\n",
    "- osm_catering_points_in_0.01 has 37470 (13.39%) zeros\tZeros\n",
    "- osm_crossing_points_in_0.001 has 189497 (67.73%) zeros\tZeros\n",
    "- osm_crossing_points_in_0.005 has 39970 (14.29%) zeros\tZeros\n",
    "- osm_crossing_points_in_0.0075 has 24759 (8.85%) zeros\tZeros\n",
    "- osm_crossing_points_in_0.01 has 18199 (6.5%) zeros\tZeros\n",
    "- osm_culture_points_in_0.001 has 265293 (94.82%) zeros\tZeros\n",
    "- osm_culture_points_in_0.005 has 184687 (66.01%) zeros\tZeros\n",
    "- osm_culture_points_in_0.0075 has 146406 (52.33%) zeros\tZeros\n",
    "- osm_culture_points_in_0.01 has 119092 (42.56%) zeros\tZeros\n",
    "- osm_finance_points_in_0.005 has 133318 (47.65%) zeros\tZeros\n",
    "- osm_finance_points_in_0.0075 has 92889 (33.2%) zeros\tZeros\n",
    "- osm_finance_points_in_0.01 has 69505 (24.84%) zeros\tZeros\n",
    "- osm_healthcare_points_in_0.005 has 122621 (43.83%) zeros\tZeros\n",
    "- osm_healthcare_points_in_0.0075 has 83430 (29.82%) zeros\tZeros\n",
    "- osm_healthcare_points_in_0.01 has 62656 (22.39%) zeros\tZeros\n",
    "- osm_historic_points_in_0.005 has 162419 (58.05%) zeros\tZeros\n",
    "- osm_historic_points_in_0.0075 has 118207 (42.25%) zeros\tZeros\n",
    "- osm_historic_points_in_0.01 has 87518 (31.28%) zeros\tZeros\n",
    "- osm_hotels_points_in_0.005 has 191803 (68.55%) zeros\tZeros\n",
    "- osm_hotels_points_in_0.0075 has 154338 (55.16%) zeros\tZeros\n",
    "- osm_hotels_points_in_0.01 has 127295 (45.5%) zeros\tZeros\n",
    "- osm_leisure_points_in_0.005 has 122645 (43.83%) zeros\tZeros\n",
    "- osm_leisure_points_in_0.0075 has 82366 (29.44%) zeros\tZeros\n",
    "- osm_leisure_points_in_0.01 has 60814 (21.74%) zeros\tZeros\n",
    "- osm_offices_points_in_0.001 has 237130 (84.75%) zeros\tZeros\n",
    "- osm_offices_points_in_0.005 has 111467 (39.84%) zeros\tZeros\n",
    "- osm_offices_points_in_0.0075 has 76352 (27.29%) zeros\tZeros\n",
    "- osm_offices_points_in_0.01 has 56099 (20.05%) zeros\tZeros\n",
    "- osm_shops_points_in_0.001 has 138828 (49.62%) zeros\tZeros\n",
    "- osm_shops_points_in_0.005 has 26979 (9.64%) zeros\tZeros\n",
    "- osm_shops_points_in_0.0075 has 17337 (6.2%) zeros\tZeros\n",
    "- osm_train_stop_points_in_0.005 has 269647 (96.37%) zeros\tZeros\n",
    "- osm_train_stop_points_in_0.0075 has 258422 (92.36%) zeros\tZeros\n",
    "- osm_train_stop_points_in_0.01 has 243840 (87.15%) zeros\tZeros\n",
    "- osm_transport_stop_points_in_0.005 has 40729 (14.56%) zeros\tZeros\n",
    "- osm_transport_stop_points_in_0.0075 has 23541 (8.41%) zeros\tZeros\n",
    "- osm_transport_stop_points_in_0.01 has 17247 (6.16%) zeros\tZeros\n",
    "- reform_count_of_houses_1000 has 14596 (5.22%) zeros\tZeros\n",
    "- reform_count_of_houses_500 has 27234 (9.73%) zeros\tZeros"
   ]
  },
  {
   "cell_type": "code",
   "execution_count": 70,
   "id": "b223db86",
   "metadata": {
    "ExecuteTime": {
     "end_time": "2021-09-25T00:23:46.295495Z",
     "start_time": "2021-09-25T00:23:46.279538Z"
    }
   },
   "outputs": [
    {
     "data": {
      "text/plain": [
       "0         NaN\n",
       "1         NaN\n",
       "2         NaN\n",
       "3         NaN\n",
       "4         NaN\n",
       "         ... \n",
       "279787    1.0\n",
       "279788    1.0\n",
       "279789    3.0\n",
       "279790    1.0\n",
       "279791    1.0\n",
       "Name: floor, Length: 279792, dtype: object"
      ]
     },
     "execution_count": 70,
     "metadata": {},
     "output_type": "execute_result"
    }
   ],
   "source": [
    "df.floor"
   ]
  },
  {
   "cell_type": "code",
   "execution_count": 71,
   "id": "8187899e",
   "metadata": {
    "ExecuteTime": {
     "end_time": "2021-09-25T00:23:54.842757Z",
     "start_time": "2021-09-25T00:23:54.831753Z"
    }
   },
   "outputs": [
    {
     "data": {
      "text/plain": [
       "str"
      ]
     },
     "execution_count": 71,
     "metadata": {},
     "output_type": "execute_result"
    }
   ],
   "source": [
    "type(df.floor.iloc[-1])"
   ]
  },
  {
   "cell_type": "code",
   "execution_count": 74,
   "id": "028fd7d3",
   "metadata": {
    "ExecuteTime": {
     "end_time": "2021-09-25T00:26:39.899805Z",
     "start_time": "2021-09-25T00:26:35.159994Z"
    }
   },
   "outputs": [
    {
     "data": {
      "image/png": "[encoded data removed]",
      "text/plain": [
       "<Figure size 360x360 with 1 Axes>"
      ]
     },
     "metadata": {
      "needs_background": "light"
     },
     "output_type": "display_data"
    }
   ],
   "source": [
    "sns.catplot(x=\"floor\", kind=\"count\", palette=\"ch:.25\", data=df);"
   ]
  },
  {
   "cell_type": "code",
   "execution_count": 76,
   "id": "c2c905f2",
   "metadata": {
    "ExecuteTime": {
     "end_time": "2021-09-25T00:27:23.810828Z",
     "start_time": "2021-09-25T00:27:21.071132Z"
    }
   },
   "outputs": [
    {
     "data": {
      "image/png": "[encoded data removed]",
      "text/plain": [
       "<Figure size 504x216 with 1 Axes>"
      ]
     },
     "metadata": {
      "needs_background": "light"
     },
     "output_type": "display_data"
    }
   ],
   "source": [
    "f, ax = plt.subplots(figsize=(7, 3))\n",
    "sns.countplot(y=\"floor\", data=df, color=\"c\");"
   ]
  }
 ],
 "metadata": {
  "kernelspec": {
   "display_name": "Python 3",
   "language": "python",
   "name": "python3"
  },
  "language_info": {
   "codemirror_mode": {
    "name": "ipython",
    "version": 3
   },
   "file_extension": ".py",
   "mimetype": "text/x-python",
   "name": "python",
   "nbconvert_exporter": "python",
   "pygments_lexer": "ipython3",
   "version": "3.8.8"
  },
  "toc": {
   "base_numbering": 1,
   "nav_menu": {},
   "number_sections": false,
   "sideBar": true,
   "skip_h1_title": true,
   "title_cell": "Table of Contents",
   "title_sidebar": "Contents",
   "toc_cell": false,
   "toc_position": {},
   "toc_section_display": true,
   "toc_window_display": false
  },
  "varInspector": {
   "cols": {
    "lenName": 16,
    "lenType": 16,
    "lenVar": 40
   },
   "kernels_config": {
    "python": {
     "delete_cmd_postfix": "",
     "delete_cmd_prefix": "del ",
     "library": "var_list.py",
     "varRefreshCmd": "print(var_dic_list())"
    },
    "r": {
     "delete_cmd_postfix": ") ",
     "delete_cmd_prefix": "rm(",
     "library": "var_list.r",
     "varRefreshCmd": "cat(var_dic_list()) "
    }
   },
   "position": {
    "height": "594px",
    "left": "641px",
    "right": "20px",
    "top": "90px",
    "width": "698px"
   },
   "types_to_exclude": [
    "module",
    "function",
    "builtin_function_or_method",
    "instance",
    "_Feature"
   ],
   "window_display": false
  }
 },
 "nbformat": 4,
 "nbformat_minor": 5
}
